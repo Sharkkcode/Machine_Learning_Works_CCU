{
  "nbformat": 4,
  "nbformat_minor": 0,
  "metadata": {
    "colab": {
      "provenance": []
    },
    "kernelspec": {
      "name": "python3",
      "display_name": "Python 3"
    },
    "language_info": {
      "name": "python"
    }
  },
  "cells": [
    {
      "cell_type": "code",
      "execution_count": 1,
      "metadata": {
        "colab": {
          "base_uri": "https://localhost:8080/"
        },
        "id": "zLLGPqQIeQCE",
        "outputId": "9e6dfa8a-b074-41f9-b431-500031ad8784"
      },
      "outputs": [
        {
          "output_type": "stream",
          "name": "stdout",
          "text": [
            "1.13.1+cu116\n"
          ]
        }
      ],
      "source": [
        "import torch\n",
        "from torch import nn\n",
        "## torch version\n",
        "print(torch.__version__)"
      ]
    },
    {
      "cell_type": "code",
      "source": [
        "import random\n",
        "\n",
        "# generate samples (a, b)\n",
        "# 0 <= a <= 1, 0 <= b <= 1\n",
        "# right ( positive ) --> 15\n",
        "# left ( negative ) --> 15\n",
        "\n",
        "torch.manual_seed(42)\n",
        "\n",
        "def rand_sample_generation(pos_n, neg_n):\n",
        "    \n",
        "    # y = 0.7x + b\n",
        "    # --> 0.7x - y + b = 0\n",
        "    # --> 0.7x1 - x2 + b = 0\n",
        "    m = 0.7\n",
        "    b = 0.3\n",
        "\n",
        "    pos = []\n",
        "    neg = []\n",
        "    while True:\n",
        "        x_tmp = random.random() * 100 - 50\n",
        "        y_tmp = random.random() * 100 - 50\n",
        "        # +-1 for label\n",
        "        if m * x_tmp - y_tmp + b > 0 and len(pos) < pos_n:\n",
        "            pos.append([x_tmp, y_tmp, 1])\n",
        "        elif m * x_tmp - y_tmp + b < 0 and len(neg) < neg_n:\n",
        "            neg.append([x_tmp, y_tmp, -1])\n",
        "\n",
        "        if len(pos) == pos_n and len(neg) == neg_n:\n",
        "            break\n",
        "\n",
        "    # print(\"pos :\", len(pos), pos)\n",
        "    # print(\"neg :\", len(neg), neg)\n",
        "\n",
        "    sample = pos + neg\n",
        "    # print(\"sample :\", len(sample), sample)\n",
        "\n",
        "    # shuffle pos neg\n",
        "    random.shuffle(sample)\n",
        "\n",
        "    # return sample in tensor\n",
        "    sample_tensor = torch.tensor(sample, dtype=torch.float32)\n",
        "    return sample_tensor"
      ],
      "metadata": {
        "id": "HH-wfbPoNbQ3"
      },
      "execution_count": 2,
      "outputs": []
    },
    {
      "cell_type": "code",
      "source": [
        "def need_update(v1, v2, label):\n",
        "    res = label * torch.dot(v1, v2)\n",
        "    if res < 0:\n",
        "        return True\n",
        "    else:\n",
        "        return False\n",
        "\n",
        "def PLA(data, weight, max_iter=1000, lr=1):\n",
        "    iter_count = 0\n",
        "    for i in range(max_iter):\n",
        "        update_count = 0\n",
        "        for j in range(len(data)):\n",
        "            data_vec = torch.cat((\n",
        "                data[j][:2],\n",
        "                torch.tensor([1], dtype=torch.float32)\n",
        "            ))\n",
        "            label = data[j][2:3]\n",
        "            if need_update(data_vec, weight, label):\n",
        "                weight = weight + lr * label * data_vec\n",
        "                update_count = update_count + 1\n",
        "        \n",
        "        # bread when we don't neet to update\n",
        "        if update_count == 0:\n",
        "            break\n",
        "        \n",
        "        iter_count = iter_count + 1\n",
        "\n",
        "    # return final weights and total iterations\n",
        "    return weight, iter_count"
      ],
      "metadata": {
        "id": "-0gmSW_Tj2nR"
      },
      "execution_count": 3,
      "outputs": []
    },
    {
      "cell_type": "code",
      "source": [
        "# initialize weight\n",
        "weight = torch.rand(3)\n",
        "print(weight)"
      ],
      "metadata": {
        "colab": {
          "base_uri": "https://localhost:8080/"
        },
        "id": "PWEN5DQXm8No",
        "outputId": "aee9f9a7-06f8-4161-9a37-f30c13ba08ff"
      },
      "execution_count": 4,
      "outputs": [
        {
          "output_type": "stream",
          "name": "stdout",
          "text": [
            "tensor([0.8823, 0.9150, 0.3829])\n"
          ]
        }
      ]
    },
    {
      "cell_type": "code",
      "source": [
        "# generate random sample\n",
        "data = rand_sample_generation(15, 15)\n",
        "print(data)"
      ],
      "metadata": {
        "colab": {
          "base_uri": "https://localhost:8080/"
        },
        "id": "z5ypL0jtni-2",
        "outputId": "44454afb-64db-41e9-8753-b1dd4ecda0e9"
      },
      "execution_count": 5,
      "outputs": [
        {
          "output_type": "stream",
          "name": "stdout",
          "text": [
            "tensor([[-15.3536,   7.4616,  -1.0000],\n",
            "        [ 18.4288,  31.9370,  -1.0000],\n",
            "        [-41.9092, -26.4187,  -1.0000],\n",
            "        [-15.4115, -46.9166,   1.0000],\n",
            "        [-10.4020,   7.6098,  -1.0000],\n",
            "        [-43.3205,   1.4967,  -1.0000],\n",
            "        [-35.1359,  -2.1730,  -1.0000],\n",
            "        [-20.7053, -31.7365,   1.0000],\n",
            "        [  1.2750, -28.0854,   1.0000],\n",
            "        [-39.2225, -32.2348,   1.0000],\n",
            "        [-16.8428, -26.4752,   1.0000],\n",
            "        [ 10.0873,  26.9734,  -1.0000],\n",
            "        [  3.9953, -21.0184,   1.0000],\n",
            "        [  7.2118, -31.5616,   1.0000],\n",
            "        [-36.9033, -44.2527,   1.0000],\n",
            "        [ 12.6171, -48.7071,   1.0000],\n",
            "        [ 19.9786,  33.7099,  -1.0000],\n",
            "        [-18.4480,  37.6435,  -1.0000],\n",
            "        [-43.7406,  36.4861,  -1.0000],\n",
            "        [ 36.7934,  -7.0908,   1.0000],\n",
            "        [-14.4023,  -7.6041,  -1.0000],\n",
            "        [ 41.5265,   8.0071,   1.0000],\n",
            "        [ 23.1404,  45.1217,  -1.0000],\n",
            "        [ 40.9922,  33.7690,  -1.0000],\n",
            "        [ 17.7193,  27.8783,  -1.0000],\n",
            "        [ 46.1234, -45.9491,   1.0000],\n",
            "        [ 32.4717, -16.4228,   1.0000],\n",
            "        [ 41.6170,   6.3581,   1.0000],\n",
            "        [-13.4445,  17.1738,  -1.0000],\n",
            "        [ 16.7616,   1.4337,   1.0000]])\n"
          ]
        }
      ]
    },
    {
      "cell_type": "code",
      "source": [
        "fin_weight, iter_count = PLA(data, weight)\n",
        "print(\"fin_weight:\", fin_weight)\n",
        "print(\"iter_count:\", iter_count)"
      ],
      "metadata": {
        "colab": {
          "base_uri": "https://localhost:8080/"
        },
        "id": "C48g7SZprDQ7",
        "outputId": "49a19aba-6be1-40c0-90bb-a0a5037f8598"
      },
      "execution_count": 6,
      "outputs": [
        {
          "output_type": "stream",
          "name": "stdout",
          "text": [
            "fin_weight: tensor([ 49.8511, -64.4137,  -1.6171])\n",
            "iter_count: 2\n"
          ]
        }
      ]
    },
    {
      "cell_type": "code",
      "source": [
        "# three time to calculate average\n",
        "iter_avg = 0\n",
        "for i in range(3):\n",
        "    data = rand_sample_generation(15, 15)\n",
        "    fin_weight, iter_count = PLA(data, weight)\n",
        "    print(\"i:\", i, \", iter_count:\", iter_count)\n",
        "    iter_avg = iter_avg + iter_count\n",
        "iter_avg = iter_avg / 3\n",
        "print(\"iter_avg:\", iter_avg)"
      ],
      "metadata": {
        "colab": {
          "base_uri": "https://localhost:8080/"
        },
        "id": "Xw4D9nRrvddG",
        "outputId": "296129d7-1052-4e9a-8eb6-81841036e76f"
      },
      "execution_count": 51,
      "outputs": [
        {
          "output_type": "stream",
          "name": "stdout",
          "text": [
            "i: 0 , iter_count: 25\n",
            "i: 1 , iter_count: 1\n",
            "i: 2 , iter_count: 6\n",
            "iter_avg: 10.666666666666666\n"
          ]
        }
      ]
    },
    {
      "cell_type": "code",
      "source": [
        "# generate random sample\n",
        "data = rand_sample_generation(1000, 1000)\n",
        "print(data)"
      ],
      "metadata": {
        "colab": {
          "base_uri": "https://localhost:8080/"
        },
        "id": "243fY5FgIVFg",
        "outputId": "7270b82f-c24d-4cd8-b84b-872d4974f881"
      },
      "execution_count": 8,
      "outputs": [
        {
          "output_type": "stream",
          "name": "stdout",
          "text": [
            "tensor([[-48.4270,  27.7707,  -1.0000],\n",
            "        [-40.5495,  20.1939,  -1.0000],\n",
            "        [ 47.2934, -40.4861,   1.0000],\n",
            "        ...,\n",
            "        [ -8.0677, -10.7784,   1.0000],\n",
            "        [ -2.7212,  39.2475,  -1.0000],\n",
            "        [  4.6934,  -9.2533,   1.0000]])\n"
          ]
        }
      ]
    },
    {
      "cell_type": "code",
      "source": [
        "# pocket algorithm\n",
        "# random weight\n",
        "def pocket_alg(data, max_iter=1000, lr=1):\n",
        "\n",
        "    weight = torch.rand(3)\n",
        "\n",
        "    # declare final weight\n",
        "    fin_weight = weight\n",
        "    \n",
        "    # declare err count min\n",
        "    err_count_min = len(data) + 1\n",
        "\n",
        "    for i in range(max_iter):\n",
        "        err_count = 0\n",
        "        for j in range(len(data)):\n",
        "            data_vec = torch.cat((\n",
        "                data[j][:2],\n",
        "                torch.tensor([1], dtype=torch.float32)\n",
        "            ))\n",
        "            label = data[j][2:3]\n",
        "            if need_update(data_vec, weight, label):\n",
        "                weight = weight + lr * label * data_vec\n",
        "                err_count = err_count + 1\n",
        "        if err_count_min > err_count:\n",
        "            err_count_min = err_count\n",
        "            fin_weight = weight\n",
        "        # print(\"fin_weight:\", fin_weight, \", err_count_min:\", err_count_min)\n",
        "\n",
        "    err_rate = err_count / len(data)\n",
        "    \n",
        "    # return fin_weight, err_rate\n",
        "    return fin_weight, err_rate"
      ],
      "metadata": {
        "id": "_mD9-nnlI5U1"
      },
      "execution_count": 9,
      "outputs": []
    },
    {
      "cell_type": "code",
      "source": [
        "import time\n",
        "\n",
        "# initialize weight\n",
        "weight = torch.rand(3)\n",
        "print(weight)"
      ],
      "metadata": {
        "colab": {
          "base_uri": "https://localhost:8080/"
        },
        "id": "94WR4MFee35H",
        "outputId": "76821356-1629-4606-ad6f-2eeec5a180bb"
      },
      "execution_count": 10,
      "outputs": [
        {
          "output_type": "stream",
          "name": "stdout",
          "text": [
            "tensor([0.9593, 0.3904, 0.6009])\n"
          ]
        }
      ]
    },
    {
      "cell_type": "code",
      "source": [
        "# try PLA\n",
        "tic = time.process_time()\n",
        "fin_weight, iter_count = PLA(data, weight)\n",
        "toc = time.process_time()\n",
        "print (\"--> PLA: \" + str(1000*(toc - tic)) + \"ms\")\n",
        "\n",
        "# try POCKET\n",
        "tic = time.process_time()\n",
        "fin_weight, err_rate = pocket_alg(data, max_iter=200)\n",
        "toc = time.process_time()\n",
        "print (\"--> POCKET: \" + str(1000*(toc - tic)) + \"ms\")\n",
        "print(\"pocket accuracy:\", 1-err_rate)"
      ],
      "metadata": {
        "colab": {
          "base_uri": "https://localhost:8080/"
        },
        "id": "fVF3BKv0Ou0k",
        "outputId": "214a043f-177b-47e6-8c97-8f60c223e887"
      },
      "execution_count": 11,
      "outputs": [
        {
          "output_type": "stream",
          "name": "stdout",
          "text": [
            "--> PLA: 1540.9111080000005ms\n",
            "--> POCKET: 16692.379519ms\n",
            "pocket accuracy: 1.0\n"
          ]
        }
      ]
    },
    {
      "cell_type": "code",
      "source": [
        "# mislabeled\n",
        "def rand_sample_generation_mis50(pos_n, neg_n):\n",
        "    \n",
        "    # y = 0.7x + b\n",
        "    # --> 0.7x - y + b = 0\n",
        "    # --> 0.7x1 - x2 + b = 0\n",
        "    m = 0.7\n",
        "    b = 0.3\n",
        "\n",
        "    pos = []\n",
        "    neg = []\n",
        "    while True:\n",
        "        x_tmp = random.random() * 100 - 50\n",
        "        y_tmp = random.random() * 100 - 50\n",
        "        # +-1 for label\n",
        "        if m * x_tmp - y_tmp + b > 0 and len(pos) < pos_n - 50:\n",
        "            pos.append([x_tmp, y_tmp, 1])\n",
        "        elif m * x_tmp - y_tmp + b < 0 and len(neg) < neg_n - 50:\n",
        "            neg.append([x_tmp, y_tmp, -1])\n",
        "\n",
        "        if len(pos) == pos_n - 50 and len(neg) == neg_n - 50:\n",
        "            break\n",
        "\n",
        "    # mislabeled data\n",
        "    while True:\n",
        "        x_tmp = random.random() * 100 - 50\n",
        "        y_tmp = random.random() * 100 - 50\n",
        "        # +-1 for label\n",
        "        if m * x_tmp - y_tmp + b > 0 and len(pos) < pos_n:\n",
        "            pos.append([x_tmp, y_tmp, -1])\n",
        "        elif m * x_tmp - y_tmp + b < 0 and len(neg) < neg_n:\n",
        "            neg.append([x_tmp, y_tmp, 1])\n",
        "\n",
        "        if len(pos) == pos_n and len(neg) == neg_n:\n",
        "            break\n",
        "\n",
        "    # print(\"pos :\", len(pos))\n",
        "    # print(\"neg :\", len(neg))\n",
        "\n",
        "    sample = pos + neg\n",
        "    # print(\"sample :\", len(sample), sample)\n",
        "\n",
        "    # shuffle pos neg\n",
        "    random.shuffle(sample)\n",
        "\n",
        "    # return sample in tensor\n",
        "    sample_tensor = torch.tensor(sample, dtype=torch.float32)\n",
        "    return sample_tensor"
      ],
      "metadata": {
        "id": "Ri1spBMD62z1"
      },
      "execution_count": 12,
      "outputs": []
    },
    {
      "cell_type": "code",
      "source": [
        "data = rand_sample_generation(1000, 1000)\n",
        "mis_data = rand_sample_generation_mis50(1000, 1000)"
      ],
      "metadata": {
        "id": "6_bQzG7e7w1s"
      },
      "execution_count": 13,
      "outputs": []
    },
    {
      "cell_type": "code",
      "source": [
        "# compare with mislabeled sample\n",
        "\n",
        "fin_weight, err_rate = pocket_alg(data, max_iter=200)\n",
        "print(\"fin_weight:\", fin_weight, \", err_rate:\", err_rate)\n",
        "print(\"pocket accuracy:\", 1-err_rate)\n",
        "\n",
        "fin_weight_mis, err_rate_mis = pocket_alg(mis_data, max_iter=200)\n",
        "print(\"fin_weight_mis:\", fin_weight_mis, \", err_rate_mis:\", err_rate_mis)\n",
        "print(\"pocket accuracy (mis) :\", 1-err_rate_mis)"
      ],
      "metadata": {
        "id": "Vib-jUKP873S",
        "colab": {
          "base_uri": "https://localhost:8080/"
        },
        "outputId": "dc7898a5-3e02-40d5-ca57-dfca2717703c"
      },
      "execution_count": 14,
      "outputs": [
        {
          "output_type": "stream",
          "name": "stdout",
          "text": [
            "fin_weight: tensor([ 658.8668, -943.4258,  289.5936]) , err_rate: 0.0\n",
            "pocket accuracy: 1.0\n",
            "fin_weight_mis: tensor([ 71.0908, -29.7757,  13.7411]) , err_rate_mis: 0.1525\n",
            "pocket accuracy (mis) : 0.8475\n"
          ]
        }
      ]
    }
  ]
}